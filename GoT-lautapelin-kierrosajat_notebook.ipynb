---
title: "GoT lautapeli, kierrosajat"
---

## Kierrosajat

Lasketaan ensin kierrosajat aloitusajoista.

```{r}
i_rounds = c(1:10) # Kierrosten lukumäärä
t = c(13 + (30/60), 13+(41/60), 14+(8/60), 14+(45/60), 15+(35/60), 16+(14/60), 17+(10/60), 17+(58/60), 18+(43/60), 19+(23/60), 20+(3/60)) # Kierrosten alkuajat
t_diff = c() # Alustetaan tyhjä vektori kierrosaikoja varten

for(i in i_rounds){
  t_diff[i] = t[i+1]-t[i] # lasketaan kierrosajat
}

```

## Lineaariset mallit

Luodaan 1. 2. ja 3. asteen polynomisovitteet dataan.

```{r}
model1 = lm(t_diff*60 ~  i_rounds )
model2 = lm(t_diff*60 ~  i_rounds + I(i_rounds^2))
model3 = lm(t_diff*60 ~  i_rounds + I(i_rounds^2) + I(i_rounds^3))
```

## Kuvaaja

Kuvataan kierroksen vaikutusta kierrosaikaan scatterplotilla ja siihen sovitetuilla polynomeilla.

```{r}
plot(i_rounds, ylim = c(0,60), 60*t_diff, main = "GoT lautapelit kierrosajat", ylab= "Kierrosaika minuuteissa", xlab = "Kierrosten lukumäärä")
x_seq = seq(1,10,length = 10)
lines(x_seq, predict(model1, data.frame(x=x_seq)), col='red')
lines(x_seq, predict(model2, data.frame(x=x_seq)), col='green')
lines(x_seq, predict(model3, data.frame(x=x_seq)), col='blue')

legend(1, 55, legend=c("1. asteen", "2. asteen", "3. asteen"),
       col=c("red", "green","blue"), lty=1:2, cex=0.8)
```

## Mallinvalinta

Verrataan luotuja malleja varianssianalyysillä.

```{r}
anova(model1, model2)
anova(model1, model3)
```

Malli 1 on huonompi kuin malli 2 ja malli 3. Tutkitaan siis malleja 2 ja 3 vastakkain.

```{r}
anova(model2, model3)
```

Malli 2 ei selitä dataa huonommin kuin malli 3. Jatketaan siis sillä. Tarkastellaan seuraavaksi mallia 2.

```{r}
summary(model2)
```

Kierroksen lineaarinen vaikutus kasvattaa kierrosaikaa 15.6 minuutilla per kierros, mutta kierroksen neliöllinen vaikutus pienentää kierrosaikaa 1.2 per kierros.

```{r}
par(mfrow = c(2,2))
plot(model2)
```

Mallin diagnostiikka vaikuttaa hyvältä näin pienelle otannalle.
